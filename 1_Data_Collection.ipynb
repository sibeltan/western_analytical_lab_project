{
 "cells": [
  {
   "cell_type": "markdown",
   "metadata": {},
   "source": [
    "# Asbestos Test Reports Data Collection From .doc Files"
   ]
  },
  {
   "cell_type": "markdown",
   "metadata": {},
   "source": [
    "My goal is to extract features such as Report No, Report Date, Location (City, State, Zip), asbestos mineral test result from Word files to a structured dataset utilizing Regular Expressions and OS library. Since the manually created documents do not always follow a standard format, I will have to adjust the code to include all different templates to get all data accurately."
   ]
  },
  {
   "cell_type": "code",
   "execution_count": 161,
   "metadata": {},
   "outputs": [],
   "source": [
    "# Import libraries\n",
    "\n",
    "import os\n",
    "import zipfile\n",
    "import re\n",
    "import xml.dom.minidom\n",
    "\n",
    "import textract\n",
    "import docx\n",
    "from docx import Document\n",
    "from docx import *\n",
    "import re\n",
    "import json\n",
    "import win32com.client as win32\n",
    "from win32com.client import constants\n",
    "from glob import glob\n",
    "import fnmatch\n",
    "import pythoncom\n",
    "import sys"
   ]
  },
  {
   "cell_type": "code",
   "execution_count": 168,
   "metadata": {},
   "outputs": [],
   "source": [
    "# convert .doc files to .txt files\n",
    "\n",
    "training_directory = os.path.join(os.getcwd(), \"training_data\")\n",
    "\n",
    "for process_file in  os.listdir(source_directory):\n",
    "    file, extension = os.path.splitext(process_file)\n",
    "    \n",
    "    # We create a new text file name by concatenating the .txt extension to file UUID\n",
    "    dest_file_path = file + '.txt'\n",
    "    \n",
    "    try:\n",
    "        \n",
    "        #extract text from the file\n",
    "        content = textract.process(os.path.join(source_directory, process_file), encoding='utf-8', extension='doc')\n",
    "\n",
    "        # create and open the new and we prepare to write the Binary Data which is represented by the wb - Write Binary\n",
    "        write_text_file = open(os.path.join(training_directory, dest_file_path), \"wb\")\n",
    "\n",
    "        #write the content and close the newly created file\n",
    "        write_text_file.write(content)\n",
    "        write_text_file.close()\n",
    "    \n",
    "    except:\n",
    "        print(\"{} has been skipped.\".format(process_file))\n",
    "        pass"
   ]
  },
  {
   "cell_type": "markdown",
   "metadata": {},
   "source": [
    "### Regular Expressions\n",
    "\n",
    "#### 1. Report No (i.e. REPORT NO:\t\t3180 , 137-644)\n",
    "REPORT NO:\\s*\\d{3,}|\\d{3}-\\d{3}\n",
    "#### 2. Date (i.e. April 21, 2019)\n",
    "\\w{3,}\\s*\\w\\d,\\s*\\d{4}\n",
    "#### 3. City State Zip (i.e. Fresno CA 93722 , Sacramento,  CA  95814)\n",
    "\\w+,?\\s*\\w\\w\\s*\\d{5}\n",
    "#### 4. Asbestos result  (i.e. Chrysotile       3-4% Chrysotile        4% Chrysotile        13-14% Chrysotile        <1%)\n",
    "Chrysotile\\s*<?((\\d+-)?\\d+)% "
   ]
  },
  {
   "cell_type": "markdown",
   "metadata": {},
   "source": [
    "## A) Extract Features From Documents"
   ]
  },
  {
   "cell_type": "code",
   "execution_count": 441,
   "metadata": {},
   "outputs": [],
   "source": [
    "# Define a function to get report value from text\n",
    "\n",
    "def get_report_value_from_text(text, regex1, regex2=None):\n",
    "    report_titles = re.findall(regex1, text)\n",
    "    if len(report_titles) != 0:\n",
    "        if regex2 is None:\n",
    "            # print(report_titles)\n",
    "            return report_titles[0]            \n",
    "        else: \n",
    "            report_values = re.findall(regex2, report_titles[0])\n",
    "            if len(report_values) != 0:\n",
    "                return report_values[0]"
   ]
  },
  {
   "cell_type": "code",
   "execution_count": 442,
   "metadata": {},
   "outputs": [],
   "source": [
    "# Define a function to get report value from paragraph\n",
    "\n",
    "def get_report_value_from_paragraph(document, regex1, regex2=None):\n",
    "    for para in document.paragraphs:\n",
    "        report_value = get_report_value_from_text(para.text, regex1, regex2)\n",
    "        if report_value is not None:\n",
    "            return report_value"
   ]
  },
  {
   "cell_type": "code",
   "execution_count": 443,
   "metadata": {},
   "outputs": [],
   "source": [
    "# Define a function to get report value from table\n",
    "\n",
    "def get_report_value_from_table(document, regex1, regex2=None):\n",
    "    for table in document.tables:\n",
    "        for row in table.rows:\n",
    "            for cell in row.cells:\n",
    "                for para in cell.paragraphs: \n",
    "                    # Find report number\n",
    "                    report_value = get_report_value_from_text(para.text, regex1, regex2)\n",
    "                    if report_value is not None:\n",
    "                        return report_value"
   ]
  },
  {
   "cell_type": "code",
   "execution_count": 444,
   "metadata": {},
   "outputs": [],
   "source": [
    "# Define a function to get report value\n",
    "\n",
    "def get_report_value(document, regex1, regex2=None):\n",
    "    report_value = get_report_value_from_paragraph(document, regex1, regex2)\n",
    "    if report_value is None:\n",
    "        report_value = get_report_value_from_table(document, regex1, regex2)\n",
    "    return report_value"
   ]
  },
  {
   "cell_type": "code",
   "execution_count": 445,
   "metadata": {},
   "outputs": [],
   "source": [
    "document1 = Document('./reports_archive/lab_report.docx')\n",
    "document2 = Document('./reports_archive/lab_report2.docx')"
   ]
  },
  {
   "cell_type": "code",
   "execution_count": 446,
   "metadata": {},
   "outputs": [
    {
     "data": {
      "text/plain": [
       "'44154'"
      ]
     },
     "execution_count": 446,
     "metadata": {},
     "output_type": "execute_result"
    }
   ],
   "source": [
    "get_report_value(document1, r\"REPORT NO:\\s*\\d{3,}|\\d{3}-\\d{3}\", r\"\\d{3}-\\d{3}|\\d{3,}\")"
   ]
  },
  {
   "cell_type": "code",
   "execution_count": 447,
   "metadata": {},
   "outputs": [
    {
     "data": {
      "text/plain": [
       "'138-147'"
      ]
     },
     "execution_count": 447,
     "metadata": {},
     "output_type": "execute_result"
    }
   ],
   "source": [
    "get_report_value(document2, r\"REPORT NO:\\s*\\d{3,}|\\d{3}-\\d{3}\", r\"\\d{3}-\\d{3}|\\d{3,}\")"
   ]
  },
  {
   "cell_type": "markdown",
   "metadata": {},
   "source": [
    "## 1. Extract Report Number From Documents"
   ]
  },
  {
   "cell_type": "code",
   "execution_count": 448,
   "metadata": {},
   "outputs": [],
   "source": [
    "# Define a function to get report number\n",
    "\n",
    "def get_report_number(document):\n",
    "    return get_report_value(document, r\"REPORT NO:\\s*\\d{3,}|\\d{3}-\\d{3}\", r\"\\d{3}-\\d{3}|\\d{3,}\")"
   ]
  },
  {
   "cell_type": "code",
   "execution_count": 449,
   "metadata": {},
   "outputs": [
    {
     "data": {
      "text/plain": [
       "'44154'"
      ]
     },
     "execution_count": 449,
     "metadata": {},
     "output_type": "execute_result"
    }
   ],
   "source": [
    "get_report_number(document1)"
   ]
  },
  {
   "cell_type": "code",
   "execution_count": 450,
   "metadata": {},
   "outputs": [
    {
     "data": {
      "text/plain": [
       "'138-147'"
      ]
     },
     "execution_count": 450,
     "metadata": {},
     "output_type": "execute_result"
    }
   ],
   "source": [
    "get_report_number(document2)"
   ]
  },
  {
   "cell_type": "markdown",
   "metadata": {},
   "source": [
    "## 2. Extract Report Date From Documents"
   ]
  },
  {
   "cell_type": "code",
   "execution_count": 451,
   "metadata": {},
   "outputs": [],
   "source": [
    "# Define a function to get report date\n",
    "\n",
    "def get_report_date(document):\n",
    "    return get_report_value(document, r\"\\w{3,}\\s\\w\\d,\\s\\d{4}\")"
   ]
  },
  {
   "cell_type": "code",
   "execution_count": 452,
   "metadata": {},
   "outputs": [
    {
     "data": {
      "text/plain": [
       "'November 13, 2006'"
      ]
     },
     "execution_count": 452,
     "metadata": {},
     "output_type": "execute_result"
    }
   ],
   "source": [
    "get_report_date(document1)"
   ]
  },
  {
   "cell_type": "code",
   "execution_count": 453,
   "metadata": {},
   "outputs": [
    {
     "data": {
      "text/plain": [
       "'May 29, 2019'"
      ]
     },
     "execution_count": 453,
     "metadata": {},
     "output_type": "execute_result"
    }
   ],
   "source": [
    "get_report_date(document2)"
   ]
  },
  {
   "cell_type": "markdown",
   "metadata": {},
   "source": [
    "## 3. Extract Location (City, State, Zip)"
   ]
  },
  {
   "cell_type": "code",
   "execution_count": 454,
   "metadata": {},
   "outputs": [],
   "source": [
    "# Define a function to get report date\n",
    "\n",
    "def get_location(document):\n",
    "    return get_report_value(document, r\"\\w+,?\\s\\w\\w\\s\\d{5}\")"
   ]
  },
  {
   "cell_type": "code",
   "execution_count": 455,
   "metadata": {},
   "outputs": [
    {
     "data": {
      "text/plain": [
       "'Hills, CA 91344'"
      ]
     },
     "execution_count": 455,
     "metadata": {},
     "output_type": "execute_result"
    }
   ],
   "source": [
    "get_location(document1)"
   ]
  },
  {
   "cell_type": "code",
   "execution_count": 456,
   "metadata": {},
   "outputs": [],
   "source": [
    "get_location(document2) # missing loocation data"
   ]
  },
  {
   "cell_type": "markdown",
   "metadata": {},
   "source": [
    "## 4. Extract Asbestos Test Result"
   ]
  },
  {
   "cell_type": "markdown",
   "metadata": {},
   "source": [
    "Asbestos refers to six unique minerals — chrysotile, amosite, crocidolite, anthophyllite, tremolite and actinolite — belonging to the serpentine and amphibole families.\n",
    "Source: https://www.asbestos.com/asbestos/types/"
   ]
  },
  {
   "cell_type": "code",
   "execution_count": 465,
   "metadata": {},
   "outputs": [],
   "source": [
    "# Define a function to get test result\n",
    "\n",
    "def get_mineral_test_result(document, mineral):\n",
    "    return get_report_value(document, r\"{}\\s*(<?\\d+-?\\d+%)\".format(mineral))\n"
   ]
  },
  {
   "cell_type": "code",
   "execution_count": 474,
   "metadata": {},
   "outputs": [],
   "source": [
    "asbestos_minerals = ['Chrysotile', 'Amosite', 'Crocidolite', 'Anthophyllite', 'Tremolite', 'Actinolite']"
   ]
  },
  {
   "cell_type": "code",
   "execution_count": 475,
   "metadata": {},
   "outputs": [],
   "source": [
    "def get_test_result(document, minerals_list):\n",
    "    for mineral in minerals_list:\n",
    "        mineral_test_result = get_mineral_test_result(document, mineral)\n",
    "        if mineral_test_result is not None:\n",
    "            return mineral + \" \" + mineral_test_result\n",
    "    return \"None Detected\"         "
   ]
  },
  {
   "cell_type": "code",
   "execution_count": 477,
   "metadata": {},
   "outputs": [
    {
     "data": {
      "text/plain": [
       "'Chrysotile 2-3%'"
      ]
     },
     "execution_count": 477,
     "metadata": {},
     "output_type": "execute_result"
    }
   ],
   "source": [
    "get_test_result(document1, asbestos_minerals)"
   ]
  },
  {
   "cell_type": "code",
   "execution_count": 478,
   "metadata": {},
   "outputs": [
    {
     "data": {
      "text/plain": [
       "'None Detected'"
      ]
     },
     "execution_count": 478,
     "metadata": {},
     "output_type": "execute_result"
    }
   ],
   "source": [
    "get_test_result(document2, asbestos_minerals)"
   ]
  }
 ],
 "metadata": {
  "kernelspec": {
   "display_name": "Python 3",
   "language": "python",
   "name": "python3"
  },
  "language_info": {
   "codemirror_mode": {
    "name": "ipython",
    "version": 3
   },
   "file_extension": ".py",
   "mimetype": "text/x-python",
   "name": "python",
   "nbconvert_exporter": "python",
   "pygments_lexer": "ipython3",
   "version": "3.7.7"
  }
 },
 "nbformat": 4,
 "nbformat_minor": 2
}
